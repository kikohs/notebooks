{
 "metadata": {
  "name": ""
 },
 "nbformat": 3,
 "nbformat_minor": 0,
 "worksheets": [
  {
   "cells": [
    {
     "cell_type": "markdown",
     "metadata": {},
     "source": [
      "# Creating test data and test graph for the filtering process"
     ]
    },
    {
     "cell_type": "markdown",
     "metadata": {},
     "source": [
      "This notebook create a line graph. To each node is associated a vector (data)."
     ]
    },
    {
     "cell_type": "code",
     "collapsed": false,
     "input": [
      "import scipy as sp\n",
      "import scipy.ndimage as ng\n",
      "import scipy.misc as mc\n",
      "import matplotlib.pyplot as plt"
     ],
     "language": "python",
     "metadata": {},
     "outputs": [],
     "prompt_number": 1
    },
    {
     "cell_type": "code",
     "collapsed": false,
     "input": [
      "l = mc.lena()\n",
      "# plt.imshow(l)\n",
      "# plt.show()"
     ],
     "language": "python",
     "metadata": {},
     "outputs": [],
     "prompt_number": 2
    },
    {
     "cell_type": "markdown",
     "metadata": {},
     "source": [
      "The data is two copies of a \"Lena\" image:"
     ]
    },
    {
     "cell_type": "code",
     "collapsed": false,
     "input": [
      "data=sp.kron(sp.array([1,1]),l)"
     ],
     "language": "python",
     "metadata": {},
     "outputs": [],
     "prompt_number": 4
    },
    {
     "cell_type": "markdown",
     "metadata": {},
     "source": [
      "Create the line graph"
     ]
    },
    {
     "cell_type": "code",
     "collapsed": false,
     "input": [
      "import networkx as nx"
     ],
     "language": "python",
     "metadata": {},
     "outputs": [],
     "prompt_number": 5
    },
    {
     "cell_type": "code",
     "collapsed": false,
     "input": [
      "G1 = nx.path_graph(512)"
     ],
     "language": "python",
     "metadata": {},
     "outputs": [],
     "prompt_number": 6
    },
    {
     "cell_type": "markdown",
     "metadata": {},
     "source": [
      "## Saving the graph and data in CSV files"
     ]
    },
    {
     "cell_type": "code",
     "collapsed": false,
     "input": [
      "import csv"
     ],
     "language": "python",
     "metadata": {},
     "outputs": [],
     "prompt_number": 7
    },
    {
     "cell_type": "markdown",
     "metadata": {},
     "source": [
      "Saving the graph and the data as node attributes:"
     ]
    },
    {
     "cell_type": "code",
     "collapsed": false,
     "input": [
      "d = ','\n",
      "name = 'testgraph'\n",
      "# Nodes\n",
      "S = data.shape\n",
      "NN = S[0]\n",
      "Nts = S[1]\n",
      "fullname = name + '.nodes.csv'\n",
      "with open(fullname, 'wb') as f:\n",
      "    writer = csv.writer(f, delimiter=d)\n",
      "    header2 = ['#id', 'ts:1024']\n",
      "    writer.writerow(header2)\n",
      "    for k in xrange(S[0]):\n",
      "        # Write the time-series data without the '[ ]' and spaces\n",
      "        row = [k, d.join(map(repr, data[k]))]\n",
      "        writer.writerow(row)\n",
      "print('Wrote file: ' + fullname)\n",
      "# Edges\n",
      "# Write networkx edge list\n",
      "fullname = name + '.edges.csv'\n",
      "with open(fullname, 'wb') as f:\n",
      "    writer = csv.writer(f, delimiter=d)\n",
      "    header = ['#source', 'target', 'weight']\n",
      "    writer.writerow(header)\n",
      "    nx.write_edgelist(G1, f, delimiter=d, data=['weight'])\n",
      "print('Wrote file: ' + fullname)  "
     ],
     "language": "python",
     "metadata": {},
     "outputs": [
      {
       "output_type": "stream",
       "stream": "stdout",
       "text": [
        "Wrote file: testgraph.nodes.csv\n",
        "Wrote file: testgraph.edges.csv"
       ]
      },
      {
       "output_type": "stream",
       "stream": "stdout",
       "text": [
        "\n"
       ]
      }
     ],
     "prompt_number": 8
    },
    {
     "cell_type": "markdown",
     "metadata": {},
     "source": [
      "## Loading the processed data from a CSV file"
     ]
    },
    {
     "cell_type": "code",
     "collapsed": false,
     "input": [
      "d = ','\n",
      "name = 'testgraph'\n",
      "# Nodes\n",
      "S = data.shape\n",
      "NN = S[0]\n",
      "Nts = S[1]\n",
      "fullname = name + '.nodes.csv'\n",
      "rdata = sp.zeros(S)\n",
      "ldata = {}\n",
      "with open(fullname, 'rb') as f:\n",
      "    reader = csv.reader(f, delimiter=d)\n",
      "    kk = 0\n",
      "    for row in reader:\n",
      "        #if isinstance(row, long):\n",
      "        ldata[kk] = row\n",
      "        kk = kk + 1\n",
      "print('Read file: ' + fullname)"
     ],
     "language": "python",
     "metadata": {},
     "outputs": [
      {
       "output_type": "stream",
       "stream": "stdout",
       "text": [
        "Read file: testgraph.nodes.csv\n"
       ]
      }
     ],
     "prompt_number": 8
    },
    {
     "cell_type": "markdown",
     "metadata": {},
     "source": [
      "Convert the strings into arrays:"
     ]
    },
    {
     "cell_type": "code",
     "collapsed": false,
     "input": [
      "rdata = sp.zeros(S)\n",
      "for j in xrange(len(ldata)-2):\n",
      "    dd = ldata[j+2][1]\n",
      "    rdata[j] = sp.array(map(int, dd.split(',')))"
     ],
     "language": "python",
     "metadata": {},
     "outputs": [],
     "prompt_number": 9
    },
    {
     "cell_type": "markdown",
     "metadata": {},
     "source": [
      "Show the data read"
     ]
    },
    {
     "cell_type": "code",
     "collapsed": false,
     "input": [
      "plt.imshow(rdata)\n",
      "plt.show()"
     ],
     "language": "python",
     "metadata": {},
     "outputs": [],
     "prompt_number": 10
    },
    {
     "cell_type": "code",
     "collapsed": false,
     "input": [],
     "language": "python",
     "metadata": {},
     "outputs": []
    }
   ],
   "metadata": {}
  }
 ]
}